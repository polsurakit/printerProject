{
 "cells": [
  {
   "cell_type": "raw",
   "metadata": {},
   "source": [
    "%aruco"
   ]
  },
  {
   "cell_type": "code",
   "execution_count": 3,
   "metadata": {},
   "outputs": [],
   "source": [
    "import numpy as np\n",
    "import cv2\n",
    "from cv2 import aruco\n",
    "import matplotlib.pyplot as plt\n",
    "import matplotlib as mpl\n",
    "\n",
    "%matplotlib inline"
   ]
  },
  {
   "cell_type": "code",
   "execution_count": 4,
   "metadata": {},
   "outputs": [],
   "source": [
    "aruco_dict = aruco.Dictionary_get(aruco.DICT_6X6_250)"
   ]
  },
  {
   "cell_type": "code",
   "execution_count": 6,
   "metadata": {},
   "outputs": [
    {
     "data": {
      "image/png": "[encoded data removed]",
      "text/plain": [
       "<Figure size 432x288 with 12 Axes>"
      ]
     },
     "metadata": {},
     "output_type": "display_data"
    }
   ],
   "source": [
    "\n",
    "fig = plt.figure()\n",
    "nx = 4\n",
    "ny = 3\n",
    "for i in range(1, nx*ny+1):\n",
    "    ax = fig.add_subplot(ny,nx, i)\n",
    "    img = aruco.drawMarker(aruco_dict,i, 700)\n",
    "    plt.imshow(img, cmap = mpl.cm.gray, interpolation = \"nearest\")\n",
    "    ax.axis(\"off\")\n",
    "\n",
    "# plt.savefig(\"_data/markers.pdf\")\n",
    "plt.show()"
   ]
  },
  {
   "cell_type": "code",
   "execution_count": 10,
   "metadata": {},
   "outputs": [],
   "source": [
    "frame = cv2.imread('senior/IMG_9508.JPG')\n",
    "gray = cv2.cvtColor(frame, cv2.COLOR_BGR2GRAY)\n",
    "aruco_dict = aruco.Dictionary_get(aruco.DICT_6X6_250)\n",
    "parameters =  aruco.DetectorParameters_create()\n",
    "corners, ids, rejectedImgPoints = aruco.detectMarkers(gray, aruco_dict, parameters=parameters)\n",
    "frame_markers = aruco.drawDetectedMarkers(frame.copy(), corners, ids)"
   ]
  },
  {
   "cell_type": "code",
   "execution_count": 29,
   "metadata": {},
   "outputs": [
    {
     "data": {
      "text/plain": [
       "array([[[1728., 2749.],\n",
       "        [1754., 2820.],\n",
       "        [1685., 2852.],\n",
       "        [1658., 2780.]]], dtype=float32)"
      ]
     },
     "execution_count": 29,
     "metadata": {},
     "output_type": "execute_result"
    }
   ],
   "source": [
    "corners[0]\n",
    "#x,y from top left and go clockwise"
   ]
  },
  {
   "cell_type": "code",
   "execution_count": 33,
   "metadata": {},
   "outputs": [],
   "source": [
    "XIMG_NAME = 'senior/IMG_9508.JPG'\n",
    "YIME_NAME = 'senior/IMG_9508.JPG'\n",
    "ximg = cv2.imread(XIMG_NAME)\n",
    "yimg = cv2.imread(YIME_NAME)"
   ]
  },
  {
   "cell_type": "code",
   "execution_count": 34,
   "metadata": {},
   "outputs": [],
   "source": [
    "aruco_dict = aruco.Dictionary_get(aruco.DICT_6X6_250)"
   ]
  },
  {
   "cell_type": "code",
   "execution_count": 42,
   "metadata": {},
   "outputs": [],
   "source": [
    "frame = ximg\n",
    "gray = cv2.cvtColor(frame, cv2.COLOR_BGR2GRAY)\n",
    "parameters =  aruco.DetectorParameters_create()\n",
    "corners, idx, rejectedImgPoints = aruco.detectMarkers(gray, aruco_dict, parameters=parameters)\n",
    "arucox = {}\n",
    "for i in range(ids.shape[0]):\n",
    "    arucox[ids[i][0]] = corners[i]"
   ]
  },
  {
   "cell_type": "code",
   "execution_count": 43,
   "metadata": {},
   "outputs": [],
   "source": [
    "frame = yimg\n",
    "gray = cv2.cvtColor(frame, cv2.COLOR_BGR2GRAY)\n",
    "parameters =  aruco.DetectorParameters_create()\n",
    "corners, ids, rejectedImgPoints = aruco.detectMarkers(gray, aruco_dict, parameters=parameters)\n",
    "arucoy = {}\n",
    "for i in range(ids.shape[0]):\n",
    "    arucoy[ids[i][0]] = corners[i]"
   ]
  },
  {
   "cell_type": "code",
   "execution_count": 54,
   "metadata": {},
   "outputs": [],
   "source": [
    "corner = [0,1,2,3]\n",
    "tl_x = arucox[0]\n",
    "tr_x = arucox[1]\n",
    "bl_x = arucox[2]\n",
    "br_x = arucox[3]\n",
    "tl_y = arucoy[0]\n",
    "tr_y = arucoy[1]\n",
    "bl_y = arucoy[2]\n",
    "br_y = arucoy[3]"
   ]
  },
  {
   "cell_type": "code",
   "execution_count": 53,
   "metadata": {},
   "outputs": [],
   "source": [
    "inf = float('inf')\n",
    "\n",
    "def getline(p1,p2):\n",
    "    [y1,x1] = p1\n",
    "    [y2,x2] = p2\n",
    "    #y = mx + c\n",
    "    if x1==x2:\n",
    "        return [inf,x1]\n",
    "    if y1==y2:\n",
    "        return [0,inf]\n",
    "    m = (y1-y2)/(x1-x2)\n",
    "    c = y1-m*x1\n",
    "    return [m,c]\n",
    "\n",
    "def divline(p1,p2,ratio): #ratio in (0,1) close to p1\n",
    "    [y1,x1] = p1\n",
    "    [y2,x2] = p2\n",
    "    rratio = 1-ratio\n",
    "    x = int(x1*rratio + x2*ratio)\n",
    "    y = int(y1*rratio + y2*ratio)\n",
    "    return [y,x]\n",
    "\n",
    "def sratio(l,r,p,tl,tr,bl,br):\n",
    "    mid = (l+r)/2\n",
    "    p1 = divline(tl,tr,mid)\n",
    "    p2 = divline(bl,br,mid)\n",
    "    [m,c] = getline(p1,p2)\n",
    "    if m == inf:\n",
    "        if abs(c-p[1] < 0.5):\n",
    "            return mid\n",
    "        if c > p[1]:\n",
    "            return sratio(l,mid,p,tl,tr,bl,br)\n",
    "        return sratio(mid,r,p,tl,tr,bl,br)\n",
    "    x = (p[0]-c)/m\n",
    "    if abs(x-p[1] < 0.5):\n",
    "        return mid\n",
    "    if x > p[1]:\n",
    "        return sratio(l,mid,p,tl,tr,bl,br)\n",
    "    return sratio(mid,r,p,tl,tr,bl,br)\n"
   ]
  },
  {
   "cell_type": "code",
   "execution_count": 49,
   "metadata": {},
   "outputs": [],
   "source": [
    "pos = {}\n",
    "for x in arucox:\n",
    "    if x in corner:\n",
    "        continue\n",
    "    ratiox = sratio(0,1,arucox[x][0],tl_x,tr_x,bl_x,br_x)\n",
    "    ratiox3 = sratio(0,1,arucox[x][3],tl_x,tr_x,bl_x,br_x)\n",
    "    ratioy = sratio(0,1,arucoy[x][0],tl_y,tr_y,bl_y,br_y)\n",
    "    ratioy3 = sratio(0,1,arucoy[x][3],tl_y,tr_y,bl_y,br_y)\n",
    "    \n",
    "    theta = math.atan((ratiox-ratiox3)/(ratioy-ratioy3)*W/H)\n",
    "    posx[x] = str(ratioy*H) + ' ' + str(ratiox*W) + ' ' + str(theta)"
   ]
  },
  {
   "cell_type": "code",
   "execution_count": 52,
   "metadata": {},
   "outputs": [
    {
     "data": {
      "text/plain": [
       "True"
      ]
     },
     "execution_count": 52,
     "metadata": {},
     "output_type": "execute_result"
    }
   ],
   "source": [
    "##write file\n",
    "filename = 'aruco.txt'\n",
    "file = open(filename,'w')\n",
    "for x in pos:\n",
    "    txt = str(x) + ' ' + posx[x] + '\\n'\n",
    "    file.write()\n",
    "file.close()"
   ]
  },
  {
   "cell_type": "code",
   "execution_count": null,
   "metadata": {},
   "outputs": [],
   "source": []
  }
 ],
 "metadata": {
  "kernelspec": {
   "display_name": "Python 3",
   "language": "python",
   "name": "python3"
  },
  "language_info": {
   "codemirror_mode": {
    "name": "ipython",
    "version": 3
   },
   "file_extension": ".py",
   "mimetype": "text/x-python",
   "name": "python",
   "nbconvert_exporter": "python",
   "pygments_lexer": "ipython3",
   "version": "3.6.6"
  }
 },
 "nbformat": 4,
 "nbformat_minor": 2
}
